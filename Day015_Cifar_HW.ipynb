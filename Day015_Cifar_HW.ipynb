{
 "cells": [
  {
   "cell_type": "markdown",
   "metadata": {},
   "source": [
    "## 『本次練習內容』\n",
    "#### 運用這幾天所學觀念搭建一個CNN分類器"
   ]
  },
  {
   "cell_type": "markdown",
   "metadata": {},
   "source": [
    "## 『本次練習目的』\n",
    "  #### 熟悉CNN分類器搭建步驟與原理\n",
    "  #### 學員們可以嘗試不同搭法，如使用不同的Maxpooling層，用GlobalAveragePooling取代Flatten等等"
   ]
  },
  {
   "cell_type": "code",
   "execution_count": 1,
   "metadata": {},
   "outputs": [
    {
     "name": "stderr",
     "output_type": "stream",
     "text": [
      "c:\\users\\user\\appdata\\local\\programs\\python\\python37\\lib\\site-packages\\numpy\\_distributor_init.py:32: UserWarning: loaded more than 1 DLL from .libs:\n",
      "c:\\users\\user\\appdata\\local\\programs\\python\\python37\\lib\\site-packages\\numpy\\.libs\\libopenblas.PYQHXLVVQ7VESDPUVUADXEVJOBGHJPAY.gfortran-win_amd64.dll\n",
      "c:\\users\\user\\appdata\\local\\programs\\python\\python37\\lib\\site-packages\\numpy\\.libs\\libopenblas.TXA6YQSD3GCQQC22GEQ54J2UDCXDXHWN.gfortran-win_amd64.dll\n",
      "  stacklevel=1)\n",
      "Using TensorFlow backend.\n"
     ]
    }
   ],
   "source": [
    "from keras.models import Sequential\n",
    "from keras.layers import Convolution2D\n",
    "from keras.layers import MaxPooling2D\n",
    "from keras.layers import Flatten\n",
    "from keras.layers import Dense\n",
    "from keras.layers import Dropout\n",
    "from keras.layers import BatchNormalization\n",
    "from keras.datasets import cifar10\n",
    "import numpy as np\n",
    "import tensorflow as tf\n",
    "from sklearn.preprocessing import OneHotEncoder\n"
   ]
  },
  {
   "cell_type": "code",
   "execution_count": 15,
   "metadata": {},
   "outputs": [
    {
     "name": "stdout",
     "output_type": "stream",
     "text": [
      "(50000, 32, 32, 3)\n",
      "(50000, 1)\n"
     ]
    }
   ],
   "source": [
    "(x_train, y_train), (x_test, y_test) = cifar10.load_data()\n",
    "\n",
    "print(x_train.shape) #(50000, 32, 32, 3)\n",
    "print(y_train.shape) \n",
    "## Normalize Data\n",
    "def normalize(X_train,X_test):\n",
    "        mean = np.mean(X_train,axis=(0,1,2,3))\n",
    "        std = np.std(X_train, axis=(0, 1, 2, 3))\n",
    "        X_train = (X_train-mean)/(std+1e-7)\n",
    "        X_test = (X_test-mean)/(std+1e-7) \n",
    "        return X_train, X_test,mean,std\n",
    "    \n",
    "    \n",
    "## Normalize Training and Testset    \n",
    "x_train, x_test,mean_train,std_train = normalize(x_train, x_test) "
   ]
  },
  {
   "cell_type": "code",
   "execution_count": 16,
   "metadata": {},
   "outputs": [
    {
     "name": "stdout",
     "output_type": "stream",
     "text": [
      "(50000, 32, 32, 3)\n",
      "(50000, 10)\n"
     ]
    },
    {
     "name": "stderr",
     "output_type": "stream",
     "text": [
      "c:\\users\\user\\appdata\\local\\programs\\python\\python37\\lib\\site-packages\\sklearn\\preprocessing\\_encoders.py:415: FutureWarning: The handling of integer data will change in version 0.22. Currently, the categories are determined based on the range [0, max(values)], while in the future they will be determined based on the unique values.\n",
      "If you want the future behaviour and silence this warning, you can specify \"categories='auto'\".\n",
      "In case you used a LabelEncoder before this OneHotEncoder to convert the categories to integers, then you can now use the OneHotEncoder directly.\n",
      "  warnings.warn(msg, FutureWarning)\n"
     ]
    }
   ],
   "source": [
    "## OneHot Label 由(None, 1)-(None, 10)\n",
    "## ex. label=2,變成[0,0,1,0,0,0,0,0,0,0]\n",
    "one_hot=OneHotEncoder()\n",
    "y_train=one_hot.fit_transform(y_train).toarray()\n",
    "y_test=one_hot.transform(y_test).toarray()\n",
    "print(x_train.shape) #(50000, 32, 32, 3)\n",
    "print(y_train.shape) "
   ]
  },
  {
   "cell_type": "code",
   "execution_count": 14,
   "metadata": {},
   "outputs": [
    {
     "data": {
      "text/plain": [
       "(50000, 32, 32, 3)"
      ]
     },
     "execution_count": 14,
     "metadata": {},
     "output_type": "execute_result"
    }
   ],
   "source": [
    "y_train.shape"
   ]
  },
  {
   "cell_type": "code",
   "execution_count": 17,
   "metadata": {},
   "outputs": [
    {
     "name": "stderr",
     "output_type": "stream",
     "text": [
      "c:\\users\\user\\appdata\\local\\programs\\python\\python37\\lib\\site-packages\\ipykernel_launcher.py:13: UserWarning: Update your `Dense` call to the Keras 2 API: `Dense(activation=\"relu\", units=100)`\n",
      "  del sys.path[0]\n",
      "c:\\users\\user\\appdata\\local\\programs\\python\\python37\\lib\\site-packages\\ipykernel_launcher.py:16: UserWarning: Update your `Dense` call to the Keras 2 API: `Dense(activation=\"softmax\", units=10)`\n",
      "  app.launch_new_instance()\n"
     ]
    },
    {
     "name": "stdout",
     "output_type": "stream",
     "text": [
      "Model: \"sequential_6\"\n",
      "_________________________________________________________________\n",
      "Layer (type)                 Output Shape              Param #   \n",
      "=================================================================\n",
      "conv2d_9 (Conv2D)            (None, 32, 32, 16)        448       \n",
      "_________________________________________________________________\n",
      "max_pooling2d_9 (MaxPooling2 (None, 16, 16, 16)        0         \n",
      "_________________________________________________________________\n",
      "dropout_9 (Dropout)          (None, 16, 16, 16)        0         \n",
      "_________________________________________________________________\n",
      "conv2d_10 (Conv2D)           (None, 16, 16, 36)        14436     \n",
      "_________________________________________________________________\n",
      "max_pooling2d_10 (MaxPooling (None, 8, 8, 36)          0         \n",
      "_________________________________________________________________\n",
      "dropout_10 (Dropout)         (None, 8, 8, 36)          0         \n",
      "_________________________________________________________________\n",
      "flatten_5 (Flatten)          (None, 2304)              0         \n",
      "_________________________________________________________________\n",
      "dense_7 (Dense)              (None, 100)               230500    \n",
      "_________________________________________________________________\n",
      "dense_8 (Dense)              (None, 10)                1010      \n",
      "=================================================================\n",
      "Total params: 246,394\n",
      "Trainable params: 246,394\n",
      "Non-trainable params: 0\n",
      "_________________________________________________________________\n",
      "Epoch 1/100\n",
      "50000/50000 [==============================] - 5s 106us/step - loss: 1.5602 - accuracy: 0.4368\n",
      "Epoch 2/100\n",
      "50000/50000 [==============================] - 5s 101us/step - loss: 1.2372 - accuracy: 0.5606\n",
      "Epoch 3/100\n",
      "50000/50000 [==============================] - 5s 101us/step - loss: 1.0986 - accuracy: 0.6101\n",
      "Epoch 4/100\n",
      "50000/50000 [==============================] - 5s 101us/step - loss: 1.0201 - accuracy: 0.6376\n",
      "Epoch 5/100\n",
      "50000/50000 [==============================] - 5s 101us/step - loss: 0.9566 - accuracy: 0.6608\n",
      "Epoch 6/100\n",
      "50000/50000 [==============================] - 5s 104us/step - loss: 0.9092 - accuracy: 0.6782\n",
      "Epoch 7/100\n",
      "50000/50000 [==============================] - 5s 105us/step - loss: 0.8817 - accuracy: 0.6875\n",
      "Epoch 8/100\n",
      "50000/50000 [==============================] - 5s 105us/step - loss: 0.8457 - accuracy: 0.6994\n",
      "Epoch 9/100\n",
      "50000/50000 [==============================] - 5s 105us/step - loss: 0.8197 - accuracy: 0.7098\n",
      "Epoch 10/100\n",
      "50000/50000 [==============================] - 5s 103us/step - loss: 0.8015 - accuracy: 0.7186\n",
      "Epoch 11/100\n",
      "50000/50000 [==============================] - 5s 102us/step - loss: 0.7746 - accuracy: 0.7266\n",
      "Epoch 12/100\n",
      "50000/50000 [==============================] - 5s 100us/step - loss: 0.7598 - accuracy: 0.7304\n",
      "Epoch 13/100\n",
      "50000/50000 [==============================] - 5s 98us/step - loss: 0.7405 - accuracy: 0.7383\n",
      "Epoch 14/100\n",
      "50000/50000 [==============================] - 5s 102us/step - loss: 0.7265 - accuracy: 0.7440\n",
      "Epoch 15/100\n",
      "50000/50000 [==============================] - 5s 96us/step - loss: 0.7101 - accuracy: 0.7468\n",
      "Epoch 16/100\n",
      "50000/50000 [==============================] - 5s 98us/step - loss: 0.7031 - accuracy: 0.7537\n",
      "Epoch 17/100\n",
      "50000/50000 [==============================] - 5s 99us/step - loss: 0.6896 - accuracy: 0.7554\n",
      "Epoch 18/100\n",
      "50000/50000 [==============================] - 5s 104us/step - loss: 0.6826 - accuracy: 0.7587\n",
      "Epoch 19/100\n",
      "50000/50000 [==============================] - 5s 107us/step - loss: 0.6715 - accuracy: 0.7602\n",
      "Epoch 20/100\n",
      "50000/50000 [==============================] - 5s 101us/step - loss: 0.6566 - accuracy: 0.7665\n",
      "Epoch 21/100\n",
      "50000/50000 [==============================] - 5s 104us/step - loss: 0.6537 - accuracy: 0.7687\n",
      "Epoch 22/100\n",
      "50000/50000 [==============================] - 5s 100us/step - loss: 0.6392 - accuracy: 0.7726\n",
      "Epoch 23/100\n",
      "50000/50000 [==============================] - 5s 99us/step - loss: 0.6419 - accuracy: 0.7708\n",
      "Epoch 24/100\n",
      "50000/50000 [==============================] - 5s 98us/step - loss: 0.6316 - accuracy: 0.7755\n",
      "Epoch 25/100\n",
      "50000/50000 [==============================] - 5s 102us/step - loss: 0.6282 - accuracy: 0.7769\n",
      "Epoch 26/100\n",
      "50000/50000 [==============================] - 5s 102us/step - loss: 0.6200 - accuracy: 0.7804\n",
      "Epoch 27/100\n",
      "50000/50000 [==============================] - 5s 99us/step - loss: 0.6067 - accuracy: 0.7841\n",
      "Epoch 28/100\n",
      "50000/50000 [==============================] - 5s 99us/step - loss: 0.6095 - accuracy: 0.7846\n",
      "Epoch 29/100\n",
      "50000/50000 [==============================] - 5s 99us/step - loss: 0.6041 - accuracy: 0.7856\n",
      "Epoch 30/100\n",
      "50000/50000 [==============================] - 5s 99us/step - loss: 0.6012 - accuracy: 0.7858\n",
      "Epoch 31/100\n",
      "50000/50000 [==============================] - 5s 99us/step - loss: 0.5927 - accuracy: 0.7883\n",
      "Epoch 32/100\n",
      "50000/50000 [==============================] - 5s 100us/step - loss: 0.5922 - accuracy: 0.7889\n",
      "Epoch 33/100\n",
      "50000/50000 [==============================] - 5s 102us/step - loss: 0.5905 - accuracy: 0.7902\n",
      "Epoch 34/100\n",
      "50000/50000 [==============================] - 5s 101us/step - loss: 0.5861 - accuracy: 0.7906\n",
      "Epoch 35/100\n",
      "50000/50000 [==============================] - 5s 101us/step - loss: 0.5793 - accuracy: 0.7926\n",
      "Epoch 36/100\n",
      "50000/50000 [==============================] - 5s 103us/step - loss: 0.5766 - accuracy: 0.7942\n",
      "Epoch 37/100\n",
      "50000/50000 [==============================] - 5s 102us/step - loss: 0.5686 - accuracy: 0.7959\n",
      "Epoch 38/100\n",
      "50000/50000 [==============================] - 5s 102us/step - loss: 0.5633 - accuracy: 0.7990\n",
      "Epoch 39/100\n",
      "50000/50000 [==============================] - 5s 101us/step - loss: 0.5629 - accuracy: 0.8000\n",
      "Epoch 40/100\n",
      "50000/50000 [==============================] - 5s 102us/step - loss: 0.5538 - accuracy: 0.8002\n",
      "Epoch 41/100\n",
      "50000/50000 [==============================] - 5s 101us/step - loss: 0.5565 - accuracy: 0.8015\n",
      "Epoch 42/100\n",
      "50000/50000 [==============================] - 5s 101us/step - loss: 0.5520 - accuracy: 0.8029\n",
      "Epoch 43/100\n",
      "50000/50000 [==============================] - 5s 102us/step - loss: 0.5478 - accuracy: 0.8049\n",
      "Epoch 44/100\n",
      "50000/50000 [==============================] - 5s 101us/step - loss: 0.5418 - accuracy: 0.8060\n",
      "Epoch 45/100\n",
      "50000/50000 [==============================] - 5s 101us/step - loss: 0.5426 - accuracy: 0.8055\n",
      "Epoch 46/100\n",
      "50000/50000 [==============================] - 5s 101us/step - loss: 0.5431 - accuracy: 0.8058\n",
      "Epoch 47/100\n",
      "50000/50000 [==============================] - 5s 101us/step - loss: 0.5417 - accuracy: 0.8077\n",
      "Epoch 48/100\n",
      "50000/50000 [==============================] - 5s 101us/step - loss: 0.5352 - accuracy: 0.8086\n",
      "Epoch 49/100\n",
      "50000/50000 [==============================] - 5s 98us/step - loss: 0.5446 - accuracy: 0.8053\n",
      "Epoch 50/100\n",
      "50000/50000 [==============================] - 5s 96us/step - loss: 0.5312 - accuracy: 0.8108\n",
      "Epoch 51/100\n",
      "50000/50000 [==============================] - 5s 98us/step - loss: 0.5257 - accuracy: 0.8110\n",
      "Epoch 52/100\n",
      "50000/50000 [==============================] - 5s 102us/step - loss: 0.5301 - accuracy: 0.8104\n",
      "Epoch 53/100\n",
      "50000/50000 [==============================] - 5s 101us/step - loss: 0.5216 - accuracy: 0.8134\n",
      "Epoch 54/100\n",
      "50000/50000 [==============================] - 5s 101us/step - loss: 0.5241 - accuracy: 0.8133\n",
      "Epoch 55/100\n",
      "50000/50000 [==============================] - 5s 102us/step - loss: 0.5214 - accuracy: 0.8120\n",
      "Epoch 56/100\n",
      "50000/50000 [==============================] - 5s 103us/step - loss: 0.5200 - accuracy: 0.8134\n",
      "Epoch 57/100\n",
      "50000/50000 [==============================] - 5s 102us/step - loss: 0.5181 - accuracy: 0.8123\n",
      "Epoch 58/100\n",
      "50000/50000 [==============================] - 5s 101us/step - loss: 0.5199 - accuracy: 0.8137\n",
      "Epoch 59/100\n",
      "50000/50000 [==============================] - 5s 99us/step - loss: 0.5134 - accuracy: 0.8184\n",
      "Epoch 60/100\n",
      "50000/50000 [==============================] - 5s 107us/step - loss: 0.5141 - accuracy: 0.8178\n",
      "Epoch 61/100\n",
      "50000/50000 [==============================] - 5s 103us/step - loss: 0.5101 - accuracy: 0.8175\n",
      "Epoch 62/100\n"
     ]
    },
    {
     "name": "stdout",
     "output_type": "stream",
     "text": [
      "50000/50000 [==============================] - 5s 96us/step - loss: 0.5118 - accuracy: 0.8174\n",
      "Epoch 63/100\n",
      "50000/50000 [==============================] - 5s 97us/step - loss: 0.5107 - accuracy: 0.8173\n",
      "Epoch 64/100\n",
      "50000/50000 [==============================] - 5s 98us/step - loss: 0.5073 - accuracy: 0.8193\n",
      "Epoch 65/100\n",
      "50000/50000 [==============================] - 5s 97us/step - loss: 0.5034 - accuracy: 0.8204\n",
      "Epoch 66/100\n",
      "50000/50000 [==============================] - 5s 100us/step - loss: 0.4992 - accuracy: 0.8207\n",
      "Epoch 67/100\n",
      "50000/50000 [==============================] - 5s 98us/step - loss: 0.5003 - accuracy: 0.8212\n",
      "Epoch 68/100\n",
      "50000/50000 [==============================] - 5s 101us/step - loss: 0.4974 - accuracy: 0.8232\n",
      "Epoch 69/100\n",
      "50000/50000 [==============================] - 5s 103us/step - loss: 0.4936 - accuracy: 0.8229\n",
      "Epoch 70/100\n",
      "50000/50000 [==============================] - 5s 101us/step - loss: 0.4938 - accuracy: 0.8242\n",
      "Epoch 71/100\n",
      "50000/50000 [==============================] - 5s 103us/step - loss: 0.4952 - accuracy: 0.8231\n",
      "Epoch 72/100\n",
      "50000/50000 [==============================] - 5s 102us/step - loss: 0.4930 - accuracy: 0.8237\n",
      "Epoch 73/100\n",
      "50000/50000 [==============================] - 5s 101us/step - loss: 0.4968 - accuracy: 0.8236\n",
      "Epoch 74/100\n",
      "50000/50000 [==============================] - 5s 102us/step - loss: 0.4913 - accuracy: 0.8243\n",
      "Epoch 75/100\n",
      "50000/50000 [==============================] - 5s 98us/step - loss: 0.4859 - accuracy: 0.8248\n",
      "Epoch 76/100\n",
      "50000/50000 [==============================] - 5s 97us/step - loss: 0.4929 - accuracy: 0.8226\n",
      "Epoch 77/100\n",
      "50000/50000 [==============================] - 5s 97us/step - loss: 0.4801 - accuracy: 0.8283\n",
      "Epoch 78/100\n",
      "50000/50000 [==============================] - 5s 95us/step - loss: 0.4898 - accuracy: 0.8250\n",
      "Epoch 79/100\n",
      "50000/50000 [==============================] - 5s 97us/step - loss: 0.4813 - accuracy: 0.8285\n",
      "Epoch 80/100\n",
      "50000/50000 [==============================] - 5s 97us/step - loss: 0.4859 - accuracy: 0.8275\n",
      "Epoch 81/100\n",
      "50000/50000 [==============================] - 5s 101us/step - loss: 0.4834 - accuracy: 0.8283\n",
      "Epoch 82/100\n",
      "50000/50000 [==============================] - 5s 104us/step - loss: 0.4813 - accuracy: 0.8283\n",
      "Epoch 83/100\n",
      "50000/50000 [==============================] - 5s 106us/step - loss: 0.4830 - accuracy: 0.8254\n",
      "Epoch 84/100\n",
      "50000/50000 [==============================] - 5s 100us/step - loss: 0.4829 - accuracy: 0.8274\n",
      "Epoch 85/100\n",
      "50000/50000 [==============================] - 5s 102us/step - loss: 0.4784 - accuracy: 0.8292\n",
      "Epoch 86/100\n",
      "50000/50000 [==============================] - 5s 100us/step - loss: 0.4753 - accuracy: 0.8315\n",
      "Epoch 87/100\n",
      "50000/50000 [==============================] - 5s 99us/step - loss: 0.4809 - accuracy: 0.8275\n",
      "Epoch 88/100\n",
      "50000/50000 [==============================] - 5s 102us/step - loss: 0.4745 - accuracy: 0.8306\n",
      "Epoch 89/100\n",
      "50000/50000 [==============================] - 5s 100us/step - loss: 0.4745 - accuracy: 0.8297\n",
      "Epoch 90/100\n",
      "50000/50000 [==============================] - 5s 96us/step - loss: 0.4638 - accuracy: 0.8358\n",
      "Epoch 91/100\n",
      "50000/50000 [==============================] - 5s 100us/step - loss: 0.4722 - accuracy: 0.8319\n",
      "Epoch 92/100\n",
      "50000/50000 [==============================] - 5s 102us/step - loss: 0.4645 - accuracy: 0.8349\n",
      "Epoch 93/100\n",
      "50000/50000 [==============================] - 5s 102us/step - loss: 0.4723 - accuracy: 0.8303\n",
      "Epoch 94/100\n",
      "50000/50000 [==============================] - 5s 98us/step - loss: 0.4698 - accuracy: 0.8312\n",
      "Epoch 95/100\n",
      "50000/50000 [==============================] - 5s 99us/step - loss: 0.4732 - accuracy: 0.8316\n",
      "Epoch 96/100\n",
      "50000/50000 [==============================] - 5s 95us/step - loss: 0.4696 - accuracy: 0.8326\n",
      "Epoch 97/100\n",
      "50000/50000 [==============================] - 5s 97us/step - loss: 0.4663 - accuracy: 0.8315\n",
      "Epoch 98/100\n",
      "50000/50000 [==============================] - 5s 96us/step - loss: 0.4693 - accuracy: 0.8322\n",
      "Epoch 99/100\n",
      "50000/50000 [==============================] - 5s 95us/step - loss: 0.4589 - accuracy: 0.8366\n",
      "Epoch 100/100\n",
      "50000/50000 [==============================] - 5s 95us/step - loss: 0.4663 - accuracy: 0.8333\n"
     ]
    },
    {
     "data": {
      "text/plain": [
       "<keras.callbacks.callbacks.History at 0x29e47bed4c8>"
      ]
     },
     "execution_count": 17,
     "metadata": {},
     "output_type": "execute_result"
    }
   ],
   "source": [
    "\n",
    "from keras.models import Sequential, model_from_yaml, load_model\n",
    "from keras.layers import Dense, Conv2D, Flatten, Dropout, MaxPooling2D\n",
    "from keras.optimizers import Adam, SGD\n",
    "\n",
    "model = Sequential()\n",
    "model.add(Conv2D(filters=16, kernel_size=(3, 3), padding='same', input_shape=(32, 32, 3), activation='relu'))\n",
    "model.add(MaxPooling2D(pool_size=(2, 2)))\n",
    "model.add(Dropout(0.25))\n",
    "model.add(Conv2D(filters=36, kernel_size=(5, 5), padding='same', activation='relu'))\n",
    "model.add(MaxPooling2D(pool_size=(2, 2)))\n",
    "model.add(Dropout(0.5))\n",
    "model.add(Flatten())\n",
    "model.add(Dense(output_dim=100, activation='relu')) #output_dim=100,activation=relu\n",
    "\n",
    "#輸出\n",
    "model.add(Dense(output_dim=10,activation='softmax'))\n",
    "\n",
    "model.summary()\n",
    "\n",
    "model.compile(optimizer = 'adam', loss = 'categorical_crossentropy', metrics = ['accuracy'])\n",
    "model.fit(x_train,y_train,batch_size=100,epochs=100)"
   ]
  },
  {
   "cell_type": "markdown",
   "metadata": {},
   "source": [
    "## 預測新圖片，輸入影像前處理要與訓練時相同\n",
    "#### ((X-mean)/(std+1e-7) ):這裡的mean跟std是訓練集的\n",
    "## 維度如下方示範"
   ]
  },
  {
   "cell_type": "code",
   "execution_count": 20,
   "metadata": {},
   "outputs": [
    {
     "name": "stdout",
     "output_type": "stream",
     "text": [
      "10000/10000 [==============================] - 1s 101us/step\n"
     ]
    },
    {
     "data": {
      "text/plain": [
       "[0.7222255906581879, 0.7591999769210815]"
      ]
     },
     "execution_count": 20,
     "metadata": {},
     "output_type": "execute_result"
    }
   ],
   "source": [
    "input_example=(np.zeros(shape=(1,32,32,3))-mean_train)/(std_train+1e-7) \n",
    "\n",
    "model.predict(input_example)\n",
    "\n",
    "model.evaluate(x_test, y_test)"
   ]
  },
  {
   "cell_type": "code",
   "execution_count": null,
   "metadata": {},
   "outputs": [],
   "source": []
  }
 ],
 "metadata": {
  "kernelspec": {
   "display_name": "Python 3",
   "language": "python",
   "name": "python3"
  },
  "language_info": {
   "codemirror_mode": {
    "name": "ipython",
    "version": 3
   },
   "file_extension": ".py",
   "mimetype": "text/x-python",
   "name": "python",
   "nbconvert_exporter": "python",
   "pygments_lexer": "ipython3",
   "version": "3.7.4"
  }
 },
 "nbformat": 4,
 "nbformat_minor": 2
}
